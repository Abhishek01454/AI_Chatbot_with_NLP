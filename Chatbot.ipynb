{
 "cells": [
  {
   "cell_type": "code",
   "execution_count": 72,
   "metadata": {},
   "outputs": [],
   "source": [
    "#In This Project we build an AI contextual chatbot is designed to provide comprehensive information about cybersecurity,\n",
    "#This Chatbot has been trained with some of the basic terminologies of CyberSecurity. The intent file used for \n",
    "#training has been made by me.\n"
   ]
  },
  {
   "cell_type": "code",
   "execution_count": 73,
   "metadata": {},
   "outputs": [
    {
     "name": "stderr",
     "output_type": "stream",
     "text": [
      "[nltk_data] Downloading package punkt to\n",
      "[nltk_data]     C:\\Users\\Abhishek\\AppData\\Roaming\\nltk_data...\n",
      "[nltk_data]   Package punkt is already up-to-date!\n"
     ]
    }
   ],
   "source": [
    "# Importing Libraries required for NLP\n",
    "import nltk\n",
    "nltk.download(\"punkt\")\n",
    "from nltk.stem.lancaster import LancasterStemmer\n",
    "stemmer = LancasterStemmer()\n",
    "\n",
    "# Importing Libraries needed for Tensorflow processing\n",
    "import tensorflow as tf   #version 1.13.2\n",
    "import numpy as np\n",
    "import tflearn            #version 0.3.2\n",
    "import random\n",
    "import json"
   ]
  },
  {
   "cell_type": "code",
   "execution_count": 74,
   "metadata": {},
   "outputs": [],
   "source": [
    "# importing our intent file used for training the model.\n",
    "with open(\"intents.json\") as json_data: \n",
    "    intents = json.load(json_data)      # Loading data from intents.json file to var intents"
   ]
  },
  {
   "cell_type": "code",
   "execution_count": 75,
   "metadata": {},
   "outputs": [],
   "source": [
    "# Empty lists for appending the data after processing NLP\n",
    "words=[]\n",
    "documents = []\n",
    "classes = []\n",
    "\n",
    "\n",
    "# This list will be used for ignoring all unwanted punctuation marks.\n",
    "ignore = [\"?\"]\n",
    "\n",
    "# Starting a loop through each intent in intents[\"patterns\"]\n",
    "for intent in intents[\"intents\"]:\n",
    "    for pattern in intent[\"patterns\"]:\n",
    "        \n",
    "        # tokenizing each and every word in the sentence by using word tokenizer and storing in w\n",
    "        w = nltk.word_tokenize(pattern) \n",
    "        #print(w)\n",
    "        \n",
    "        # Adding tokenized words to words empty list that we created\n",
    "        words.extend(w) \n",
    "        #print(words)\n",
    "        \n",
    "        # Adding words to documents with tag given in intents file\n",
    "        documents.append((w, intent[\"tag\"]))\n",
    "        #print(documents)\n",
    "        \n",
    "        # Adding only tag to our classes list\n",
    "        if intent[\"tag\"] not in classes:      \n",
    "            classes.append(intent[\"tag\"])  #If tag is not present in classes[] then it will append into it.\n",
    "            #print(classes)\n",
    "            "
   ]
  },
  {
   "cell_type": "code",
   "execution_count": 76,
   "metadata": {
    "scrolled": true
   },
   "outputs": [
    {
     "name": "stdout",
     "output_type": "stream",
     "text": [
      "60 Documents \n",
      "\n",
      "20 Classes \n",
      "\n",
      "91 Stemmed Words \n"
     ]
    }
   ],
   "source": [
    "#Performing Stemming by using stemmer.stem() nd lower each word \n",
    "#Running loop in words[] and ignoring punctuation marks present in ignore[]\n",
    "\n",
    "words = [stemmer.stem(w.lower()) for w in words if w not in ignore]  \n",
    "words = sorted(list(set(words)))  #Removing Duplicates in words[]\n",
    "\n",
    "#Removing Duplicate Classes\n",
    "classes = sorted(list(set(classes)))\n",
    "\n",
    "#Printing length of lists we formed\n",
    "print(len(documents),\"Documents \\n\")\n",
    "print(len(classes),\"Classes \\n\")\n",
    "print(len(words), \"Stemmed Words \")"
   ]
  },
  {
   "cell_type": "code",
   "execution_count": 77,
   "metadata": {},
   "outputs": [],
   "source": [
    "#Creating Training Data which will be furthur used for training\n",
    "training = []\n",
    "output = []\n",
    "\n",
    "#Creating empty array for output\n",
    "output_empty = [0] * len(classes)\n",
    "\n",
    "#Creating Training set and bag of words for each sentence\n",
    "for doc in documents:\n",
    "    bag = [] #Initialising empty bag of words\n",
    "\n",
    "    pattern_words = doc[0] #Storing list of tokenized words for the documents[] tp pattern_words\n",
    "    #print(pattern_words)\n",
    "    \n",
    "    #Again Stemming each word from pattern_words\n",
    "    pattern_words = [stemmer.stem(word.lower()) for word in pattern_words]  \n",
    "    #print(pattern_words)\n",
    "    \n",
    "    #Creating bag of words array\n",
    "    for w in words:\n",
    "        bag.append(1) if w in pattern_words else bag.append(0)\n",
    "        \n",
    "    #It will give output 1 for curent tag and 0 for all other tags\n",
    "    output_row = list(output_empty)\n",
    "    output_row[classes.index(doc[1])] =1 \n",
    "    training.append([bag, output_row])"
   ]
  },
  {
   "cell_type": "code",
   "execution_count": 78,
   "metadata": {},
   "outputs": [
    {
     "name": "stderr",
     "output_type": "stream",
     "text": [
      "C:\\Users\\Abhishek\\AppData\\Local\\Temp\\ipykernel_3368\\451365208.py:2: VisibleDeprecationWarning: Creating an ndarray from ragged nested sequences (which is a list-or-tuple of lists-or-tuples-or ndarrays with different lengths or shapes) is deprecated. If you meant to do this, you must specify 'dtype=object' when creating the ndarray.\n",
      "  training = np.array(training) #Converting training data into numpy array\n"
     ]
    }
   ],
   "source": [
    "random.shuffle(training) #Suffling the data or features\n",
    "training = np.array(training) #Converting training data into numpy array\n",
    "\n",
    "#Creating Training Lists\n",
    "train_x = list(training[:,0])\n",
    "train_y = list(training[:,1])"
   ]
  },
  {
   "cell_type": "code",
   "execution_count": 79,
   "metadata": {},
   "outputs": [
    {
     "name": "stdout",
     "output_type": "stream",
     "text": [
      "Training Step: 7999  | total loss: \u001b[1m\u001b[32m0.00544\u001b[0m\u001b[0m | time: 0.028s\n",
      "| Adam | epoch: 1000 | loss: 0.00544 - acc: 1.0000 -- iter: 56/60\n",
      "Training Step: 8000  | total loss: \u001b[1m\u001b[32m0.00544\u001b[0m\u001b[0m | time: 0.030s\n",
      "| Adam | epoch: 1000 | loss: 0.00544 - acc: 1.0000 -- iter: 60/60\n",
      "--\n",
      "INFO:tensorflow:d:\\Minor project\\model.tflearn is not in all_model_checkpoint_paths. Manually adding it.\n"
     ]
    }
   ],
   "source": [
    "tf.compat.v1.reset_default_graph()#Reset Underlying Graph data\n",
    "\n",
    "#Building our own Neural Network\n",
    "net = tflearn.input_data(shape=[None, len(train_x[0])])\n",
    "net = tflearn.fully_connected(net, 10)\n",
    "net = tflearn.fully_connected(net, 10)\n",
    "net = tflearn.fully_connected(net, len(train_y[0]), activation=\"softmax\")\n",
    "net = tflearn.regression(net)\n",
    "\n",
    "#Defining Model and setting up tensorboard\n",
    "model = tflearn.DNN(net, tensorboard_dir=\"tflearn_logs\") \n",
    "\n",
    "#Now we have setup model, now we need to train that model by fitting data into it by model.fit()\n",
    "#n_epoch is the number of times that model will se our data during training\n",
    "model.fit(train_x, train_y, n_epoch=1000, batch_size=8, show_metric=True) \n",
    "model.save(\"model.tflearn\") #Saving the model"
   ]
  },
  {
   "cell_type": "code",
   "execution_count": 80,
   "metadata": {},
   "outputs": [],
   "source": [
    "#Importing pickle module\n",
    "import pickle\n",
    "\n",
    "#Dumping training data by using dump() and writing it into training_data in binary mode\n",
    "pickle.dump({\"words\":words, \"classes\":classes, \"train_x\":train_x, \"train_y\":train_y}, open(\"training_data\", \"wb\"))"
   ]
  },
  {
   "cell_type": "code",
   "execution_count": 81,
   "metadata": {},
   "outputs": [],
   "source": [
    "#Restoring all data structure\n",
    "data = pickle.load(open(\"training_data\",\"rb\"))\n",
    "words = data['words']\n",
    "classes = data['classes']\n",
    "train_x = data['train_x']\n",
    "train_y = data['train_y']"
   ]
  },
  {
   "cell_type": "code",
   "execution_count": 82,
   "metadata": {},
   "outputs": [],
   "source": [
    "with open(\"intents.json\") as json_data:\n",
    "    intents = json.load(json_data)  #Loading our json_data"
   ]
  },
  {
   "cell_type": "code",
   "execution_count": 83,
   "metadata": {},
   "outputs": [
    {
     "name": "stdout",
     "output_type": "stream",
     "text": [
      "INFO:tensorflow:Restoring parameters from d:\\Minor project\\model.tflearn\n"
     ]
    }
   ],
   "source": [
    "# Loading the saved model\n",
    "model.load(\"./model.tflearn\") #Loading training model which we saved"
   ]
  },
  {
   "cell_type": "code",
   "execution_count": 84,
   "metadata": {},
   "outputs": [],
   "source": [
    "#Cleaning User Input\n",
    "def clean_up_sentence(sentence):\n",
    "    \n",
    "    # Tokenizing the pattern\n",
    "    sentence_words = nltk.word_tokenize(sentence) #Again tokenizing the sentence\n",
    "    \n",
    "    #Stemming each word from the user's input\n",
    "    sentence_words= [stemmer.stem(word.lower()) for word in sentence_words]\n",
    "\n",
    "    return sentence_words\n",
    "\n",
    "#Returning bag of words array: 0 or 1 or each word in the bag that exists in as we have declared in above lines\n",
    "def bow(sentence, words, show_details=False):\n",
    "    \n",
    "    #Tokenizing the user input\n",
    "    sentence_words = clean_up_sentence(sentence)\n",
    "    \n",
    "    #Generating bag of words from the sentence that user entered\n",
    "    bag = [0]*len(words)\n",
    "    for s in sentence_words:\n",
    "        for i,w in enumerate(words):\n",
    "            if w == s:\n",
    "                bag[i] = 1\n",
    "                if show_details:\n",
    "                    print(\"Found in bag: %s\"% w)\n",
    "    return(np.array(bag))"
   ]
  },
  {
   "cell_type": "code",
   "execution_count": 85,
   "metadata": {},
   "outputs": [],
   "source": [
    "\n",
    "from nltk.stem import SnowballStemmer\n",
    "\n",
    "stemmer = SnowballStemmer('english')\n",
    "\n",
    "context = {}  # Create a dictionary to hold the user's context\n",
    "\n",
    "ERROR_THRESHOLD = 0.25\n",
    "\n",
    "def classify(sentence):\n",
    "    # Generating probabilities from the model\n",
    "    results = model.predict([bow(sentence, words)])[0]\n",
    "\n",
    "    # Filter out predictions below a threshold\n",
    "    results = [[i, r] for i, r in enumerate(results) if r > ERROR_THRESHOLD]\n",
    "\n",
    "    # Sorting by the strength of probability\n",
    "    results.sort(key=lambda x: x[1], reverse=True)\n",
    "    return_list = []\n",
    "    for r in results:\n",
    "        return_list.append((classes[r[0]], r[1]))\n",
    "\n",
    "    # Return a tuple of intent and probability\n",
    "    return return_list\n",
    "\n",
    "\n",
    "def response(sentence, userID='123', show_details=False):\n",
    "    results = classify(sentence)\n",
    "\n",
    "    # If we have a classification, find the matching intent tag\n",
    "    if results:\n",
    "        # Loop as long as there are matches to process\n",
    "        for r in results:\n",
    "            for i in intents['intents']:\n",
    "                # Find a tag matching the result\n",
    "                if i['tag'] == r[0]:\n",
    "                    # Set context for this intent if necessary\n",
    "                    if 'context_set' in i:\n",
    "                        if show_details:\n",
    "                            print('context:', i['context_set'])\n",
    "                        context[userID] = i['context_set']\n",
    "\n",
    "                    # Check if this intent is contextual and applies to this user's conversation\n",
    "                    if not 'context_filter' in i or \\\n",
    "                            (userID in context and 'context_filter' in i and i['context_filter'] == context[userID]):\n",
    "                        if show_details:\n",
    "                            print('tag:', i['tag'])\n",
    "\n",
    "                        # Return the first response from the intent\n",
    "                        return i['responses'][0]\n",
    "\n",
    "    # If no matching intent is found, return a default response\n",
    "    return \"I'm sorry, I didn't understand your request.\"\n",
    "\n",
    "\n",
    "def bow(sentence, words):\n",
    "    # Tokenize the sentence\n",
    "    sentence_words = nltk.word_tokenize(sentence)\n",
    "\n",
    "    # Stem each word\n",
    "    sentence_words = [stemmer.stem(word.lower()) for word in sentence_words]\n",
    "\n",
    "    # Initialize the bag of words\n",
    "    bag = [0] * len(words)\n",
    "\n",
    "    # Create the bag of words representation\n",
    "    for s in sentence_words:\n",
    "        for i, w in enumerate(words):\n",
    "            if w == s:\n",
    "                bag[i] = 1\n",
    "\n",
    "    return np.array(bag)\n"
   ]
  },
  {
   "cell_type": "code",
   "execution_count": 86,
   "metadata": {},
   "outputs": [
    {
     "data": {
      "text/plain": [
       "\"I'm sorry, I didn't understand your request.\""
      ]
     },
     "execution_count": 86,
     "metadata": {},
     "output_type": "execute_result"
    }
   ],
   "source": [
    "response(\"joe biden\")\n"
   ]
  }
 ],
 "metadata": {
  "kernelspec": {
   "display_name": "Python 3",
   "language": "python",
   "name": "python3"
  },
  "language_info": {
   "codemirror_mode": {
    "name": "ipython",
    "version": 3
   },
   "file_extension": ".py",
   "mimetype": "text/x-python",
   "name": "python",
   "nbconvert_exporter": "python",
   "pygments_lexer": "ipython3",
   "version": "3.11.3"
  }
 },
 "nbformat": 4,
 "nbformat_minor": 2
}
